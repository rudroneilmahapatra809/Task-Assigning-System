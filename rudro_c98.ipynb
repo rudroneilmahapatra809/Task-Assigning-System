{
  "nbformat": 4,
  "nbformat_minor": 0,
  "metadata": {
    "colab": {
      "name": "rudro-c98",
      "provenance": [],
      "collapsed_sections": [],
      "include_colab_link": true
    },
    "kernelspec": {
      "name": "python3",
      "display_name": "Python 3"
    },
    "language_info": {
      "name": "python"
    }
  },
  "cells": [
    {
      "cell_type": "markdown",
      "metadata": {
        "id": "view-in-github",
        "colab_type": "text"
      },
      "source": [
        "<a href=\"https://colab.research.google.com/github/rudroneilmahapatra809/Task-Assigning-System/blob/main/rudro_c98.ipynb\" target=\"_parent\"><img src=\"https://colab.research.google.com/assets/colab-badge.svg\" alt=\"Open In Colab\"/></a>"
      ]
    },
    {
      "cell_type": "code",
      "source": [
        "#Project by rudro -(Python Programmer)\n",
        "\n",
        "#Creating function called Swapfiledata\n",
        "def Swapfiledata():\n",
        "    file1 = input(\"Enter the file name:\")\n",
        "    file2 = input(\"Enter the file name:\")\n",
        "\n",
        "    #These lines helps to Open the first file in reading format ,  Save data in the variable\n",
        "    with open(file1, 'r') as a:\n",
        "         data_a = a.read()\n",
        "\n",
        "   #These lines helps to Open the Second file in reading format ,  Save data in the variable\n",
        "    with open(file2 , 'r') as b:\n",
        "         data_b = b.read()\n",
        "\n",
        "    #These lines helps to Open the first file in writing format ,  Save data in the variable\n",
        "    with open(file1 , 'w') as a:\n",
        "        a.write(data_b)\n",
        "    \n",
        "    #These lines helps to Open the Second file in writing format ,  Save data in the variable\n",
        "    with open(file2 , 'w') as b:\n",
        "        b.write(data_b) \n",
        "        \n",
        "\n",
        "print()\n",
        "#Project Name (Title)\n",
        "print(\"SwapFiles Data\")\n",
        "print()\n",
        "#DOne by ---\n",
        "print(\"Project was done by - rudro\")\n",
        "\n",
        "Swapfiledata()\n",
        "\n",
        "print(\"Data Swapped Successfully , Note : \")\n",
        "print(\"Open the terminal on vs code and run the code on the terminal \")\n",
        "print(\"From the project developer rudro\")"
      ],
      "metadata": {
        "id": "PLtReJ74G6Q9",
        "colab": {
          "base_uri": "https://localhost:8080/"
        },
        "outputId": "1287e027-039f-4a63-ded7-49a5f08b2a31"
      },
      "execution_count": null,
      "outputs": [
        {
          "output_type": "stream",
          "name": "stdout",
          "text": [
            "\n",
            "SwapFiles Data\n",
            "\n",
            "Project was done by - rudro\n"
          ]
        }
      ]
    },
    {
      "cell_type": "markdown",
      "source": [
        "# hllo im rudro"
      ],
      "metadata": {
        "id": "9LEmbrRNcfxt"
      }
    },
    {
      "cell_type": "code",
      "source": [
        "\n"
      ],
      "metadata": {
        "id": "zYkzHx_VI2y9"
      },
      "execution_count": null,
      "outputs": []
    },
    {
      "cell_type": "markdown",
      "source": [
        "# hllo im mahapatra"
      ],
      "metadata": {
        "id": "o_aOE_KlcosW"
      }
    }
  ]
}